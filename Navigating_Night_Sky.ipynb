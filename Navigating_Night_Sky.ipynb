{
 "cells": [
  {
   "cell_type": "markdown",
   "metadata": {},
   "source": [
    "### Part 1: Observing from where we are"
   ]
  },
  {
   "cell_type": "markdown",
   "metadata": {},
   "source": [
    "#### Definitions\n",
    "Meridian: circle through elestial poles and zenith\n",
    "\n",
    "Zenith: Spot directly above observer\n",
    "\n",
    "Equinox: days of equal day and night; when sun crosses earth's equator\n",
    "\n",
    "Summer Solstice: start of summer in northern hemisphere, also longest day\n",
    "\n",
    "Winter Solstice: in the northern hemisphere, is the shortest day\n",
    "\n",
    "Airmass: amount of air in between you and object you are observing, depends on angle from zenith\n",
    "\n",
    "Nadir: opposite of zenith; directly below observer"
   ]
  },
  {
   "cell_type": "markdown",
   "metadata": {},
   "source": [
    "#### Drawing exercise (can turn in separately but here are angles and descriptions for now)\n",
    "Celestial North Pole: In the context of the image, the CNP will be pointing up and to the left at an angle of 47.6 degrees from the North horizon\n",
    "\n",
    "Celestial Equator: the celestial equator will be 90 degrees clockwise from the CNP, so 137.6 degrees from the North horizon or 42.4 degrees counterclockwise from South horizon\n",
    "\n",
    "Altitude of Sun at summer solstice: 23.5 degrees is the tilt of the Earth, so at summer solstice the sun will be 23.5 degrees north of the celestial equator; so in Seattle that will be about 114 degrees as measured clockwise from the north horizon\n",
    "\n",
    "Altitude of Sun at winter solstice: same logic as above but 23.5 degrees below celestia equator; so 161.1 degrees as measured from north horizon\n",
    "\n",
    "Altitude of Sun at equinoxes: right at celestial equator; 137.6 degrees"
   ]
  },
  {
   "cell_type": "markdown",
   "metadata": {},
   "source": [
    "#### You are observing a star that is the same number of degrees above the celestial equator as your latitude. Where is that star when it crosses the meridian?\n",
    "The star will be at zenith."
   ]
  },
  {
   "cell_type": "markdown",
   "metadata": {},
   "source": [
    "#### You spot a star that is right at the southern horizon as it crosses the meridian. How many degrees above the celestial equator does your latitude differ from that of a star near the southern horizon?\n",
    "That star right at the southern horizon would be an angle below the celestial equator that is equal to 90 - your latitude."
   ]
  },
  {
   "cell_type": "markdown",
   "metadata": {},
   "source": [
    "### Part 2: Planning Observations"
   ]
  },
  {
   "cell_type": "markdown",
   "metadata": {},
   "source": [
    "#### Details: \n",
    "Partner: Jagdeep Singh; Objects: Planetary Nebulae; Catalog: PLNEBULAE, galactic planetary nebulae catalog"
   ]
  },
  {
   "cell_type": "markdown",
   "metadata": {},
   "source": [
    "#### Observing assignment: \n",
    "Greenwich Observatory; First 2 weeks of February"
   ]
  },
  {
   "cell_type": "markdown",
   "metadata": {},
   "source": [
    "#### List of best objects up during time:\n",
    "\n",
    "Name,           RA,          DEC,           airmass\n",
    "\n",
    "8 PuWe 1      06 19 34.30 +55 36 42.6 1.1050869320462244\n",
    "\n",
    "15 EGB 4       06 29 35.35 +71 04 03.5 1.1170562711584675\n",
    "\n",
    "17 NGC 2242    06 34 07.40 +44 46 37.6 1.1174066753248644\n",
    "\n",
    "23 NeVe 8      06 42 00.00 +37 08 00.0 1.1510056685221808\n",
    "\n",
    "24 A 16        06 43 55.26 +61 47 25.0 1.0793681808631463\n",
    "\n",
    "58 NGC 2371-72 07 25 35.29 +29 29 35.8 1.1472136511569526\n",
    "\n",
    "96 JnEr 1      07 57 52.58 +53 25 18.4 1.0190251536625827\n",
    "\n",
    "142 A 28        08 41 34.59 +58 13 54.2 1.0093592680356307"
   ]
  },
  {
   "cell_type": "markdown",
   "metadata": {},
   "source": [
    "#### Moon phases:\n",
    "Completed using code below and checked with moonpage.com\n",
    "\n",
    "Moon will be new 2/5/19 in our observing window so that will be the best night."
   ]
  },
  {
   "cell_type": "markdown",
   "metadata": {},
   "source": [
    "#### 1 month later: \n",
    "Of the eight objects visible during the initial observing window, only two of them would still be up in a month. Therefore it would be preferable to observe at the initial time, or the list could be adjusted with the new times to pick a better list of objects."
   ]
  },
  {
   "cell_type": "code",
   "execution_count": 2,
   "metadata": {
    "collapsed": true
   },
   "outputs": [],
   "source": [
    "import numpy as np\n",
    "import pandas as pd\n",
    "\n",
    "import astropy\n",
    "import astropy.units as u\n",
    "from astropy.time import Time\n",
    "from astropy.coordinates import SkyCoord\n",
    "\n",
    "from astroplan import Observer, FixedTarget\n",
    "from astroplan import moon_illumination"
   ]
  },
  {
   "cell_type": "code",
   "execution_count": 3,
   "metadata": {
    "collapsed": true
   },
   "outputs": [],
   "source": [
    "def observeLength(loc, dates):\n",
    "    for idx,val in enumerate(dates):\n",
    "        astro_set = loc.twilight_evening_astronomical(val, which='nearest') \n",
    "        astro_rise = loc.twilight_morning_astronomical(val, which='next')\n",
    "        observing_length = (astro_rise - astro_set).to(u.h)\n",
    "        print(\"Observation time: {0:.1f} on \".format(observing_length) + str(val))"
   ]
  },
  {
   "cell_type": "code",
   "execution_count": 4,
   "metadata": {
    "collapsed": true
   },
   "outputs": [],
   "source": [
    "def objectsVisible(loc, table, date):\n",
    "    print(\"Name,         RA,          DEC,           airmass\")\n",
    "    for index,row in table.iterrows():\n",
    "        coords = SkyCoord(row.ra, row.dec, unit=(u.hourangle, u.deg))\n",
    "        obj = FixedTarget(name=row.name, coord=coords)\n",
    "        obj_altaz = loc.altaz(date, obj)\n",
    "        objUP = loc.target_is_up(date, obj)\n",
    "        if ((objUP) and (obj_altaz.secz < 1.2)):\n",
    "            print(index, row[0], row[1], row[2], obj_altaz.secz)"
   ]
  },
  {
   "cell_type": "code",
   "execution_count": 5,
   "metadata": {
    "collapsed": true
   },
   "outputs": [],
   "source": [
    "def moonIllumination(dates):\n",
    "    for idx,val in enumerate(obs_dates):\n",
    "        print(val, moon_illumination(val))"
   ]
  },
  {
   "cell_type": "code",
   "execution_count": 6,
   "metadata": {
    "collapsed": true
   },
   "outputs": [],
   "source": [
    "pn_table = pd.read_excel(\"PNe_1.xlsx\")"
   ]
  },
  {
   "cell_type": "code",
   "execution_count": 7,
   "metadata": {
    "collapsed": true
   },
   "outputs": [],
   "source": [
    "obs_dates_list = [\"2019-02-01\", \"2019-02-02\", \"2019-02-03\", \"2019-02-04\", \"2019-02-05\", \"2019-02-06\", \"2019-02-07\", \"2019-02-08\", \"2019-02-09\", \"2019-02-10\", \"2019-02-11\", \"2019-02-12\", \"2019-02-13\", \"2019-02-14\"]\n",
    "obs_dates = Time(obs_dates_list, format='iso')"
   ]
  },
  {
   "cell_type": "code",
   "execution_count": 8,
   "metadata": {
    "collapsed": true
   },
   "outputs": [],
   "source": [
    "greenwichObs = Observer.at_site('greenwich')"
   ]
  },
  {
   "cell_type": "code",
   "execution_count": null,
   "metadata": {
    "collapsed": true
   },
   "outputs": [],
   "source": [
    "observeLength(greenwichObs, obs_dates)"
   ]
  },
  {
   "cell_type": "code",
   "execution_count": null,
   "metadata": {
    "collapsed": true
   },
   "outputs": [],
   "source": [
    "objectsVisible(greenwichObs, pn_table, obs_dates[7])"
   ]
  },
  {
   "cell_type": "code",
   "execution_count": 10,
   "metadata": {
    "collapsed": false
   },
   "outputs": [
    {
     "name": "stdout",
     "output_type": "stream",
     "text": [
      "2019-02-01 00:00:00.000 0.1306211267893393\n",
      "2019-02-02 00:00:00.000 0.072784317480928\n",
      "2019-02-03 00:00:00.000 0.03120859200454762\n",
      "2019-02-04 00:00:00.000 0.006895941214544399\n",
      "2019-02-05 00:00:00.000 0.00039298351742700355\n",
      "2019-02-06 00:00:00.000 0.011775929354545356\n",
      "2019-02-07 00:00:00.000 0.040654328696458186\n",
      "2019-02-08 00:00:00.000 0.08619858401403335\n",
      "2019-02-09 00:00:00.000 0.1471848472053131\n",
      "2019-02-10 00:00:00.000 0.22203499936339072\n",
      "2019-02-11 00:00:00.000 0.3088161880091501\n",
      "2019-02-12 00:00:00.000 0.40516815144692964\n",
      "2019-02-13 00:00:00.000 0.5081508457776693\n",
      "2019-02-14 00:00:00.000 0.6140381469212625\n"
     ]
    }
   ],
   "source": [
    "moonIllumination(obs_dates)"
   ]
  },
  {
   "cell_type": "code",
   "execution_count": 12,
   "metadata": {
    "collapsed": true
   },
   "outputs": [],
   "source": [
    "new_obs_dates_list = [\"2019-03-01\", \"2019-03-02\", \"2019-03-03\", \"2019-03-04\", \"2019-03-05\", \"2019-03-06\", \"2019-03-07\", \"2019-03-08\", \"2019-03-09\", \"2019-03-10\", \"2019-03-11\", \"2019-03-12\", \"2019-03-13\", \"2019-03-14\"]\n",
    "new_obs_dates = Time(new_obs_dates_list, format='iso')"
   ]
  },
  {
   "cell_type": "code",
   "execution_count": null,
   "metadata": {
    "collapsed": true
   },
   "outputs": [],
   "source": [
    "observeLength(greenwichObs, new_obs_dates)"
   ]
  },
  {
   "cell_type": "code",
   "execution_count": null,
   "metadata": {
    "collapsed": true
   },
   "outputs": [],
   "source": [
    "objectsVisible(greenwichObs, pn_table, new_obs_dates[7])"
   ]
  },
  {
   "cell_type": "code",
   "execution_count": 13,
   "metadata": {
    "collapsed": false
   },
   "outputs": [
    {
     "name": "stdout",
     "output_type": "stream",
     "text": [
      "2019-02-01 00:00:00.000 0.1306211267893393\n",
      "2019-02-02 00:00:00.000 0.072784317480928\n",
      "2019-02-03 00:00:00.000 0.03120859200454762\n",
      "2019-02-04 00:00:00.000 0.006895941214544399\n",
      "2019-02-05 00:00:00.000 0.00039298351742700355\n",
      "2019-02-06 00:00:00.000 0.011775929354545356\n",
      "2019-02-07 00:00:00.000 0.040654328696458186\n",
      "2019-02-08 00:00:00.000 0.08619858401403335\n",
      "2019-02-09 00:00:00.000 0.1471848472053131\n",
      "2019-02-10 00:00:00.000 0.22203499936339072\n",
      "2019-02-11 00:00:00.000 0.3088161880091501\n",
      "2019-02-12 00:00:00.000 0.40516815144692964\n",
      "2019-02-13 00:00:00.000 0.5081508457776693\n",
      "2019-02-14 00:00:00.000 0.6140381469212625\n"
     ]
    }
   ],
   "source": [
    "moonIllumination(new_obs_dates)"
   ]
  },
  {
   "cell_type": "code",
   "execution_count": null,
   "metadata": {
    "collapsed": true
   },
   "outputs": [],
   "source": []
  }
 ],
 "metadata": {
  "kernelspec": {
   "display_name": "Python [default]",
   "language": "python",
   "name": "python3"
  },
  "language_info": {
   "codemirror_mode": {
    "name": "ipython",
    "version": 3
   },
   "file_extension": ".py",
   "mimetype": "text/x-python",
   "name": "python",
   "nbconvert_exporter": "python",
   "pygments_lexer": "ipython3",
   "version": "3.5.2"
  }
 },
 "nbformat": 4,
 "nbformat_minor": 2
}
